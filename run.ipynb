{
 "cells": [
  {
   "cell_type": "code",
   "execution_count": null,
   "metadata": {},
   "outputs": [],
   "source": [
    "\n",
    "from InferC import *\n",
    "from graph_tool.generation import remove_parallel_edges,remove_self_loops\n",
    "import graph_tool.collection as gtc\n",
    "import pickle as pk\n"
   ]
  },
  {
   "cell_type": "code",
   "execution_count": null,
   "metadata": {},
   "outputs": [],
   "source": [
    "net='hens'\n",
    "motifs='Dmotifs5' #file with candidate motif e.g 'Umotifs6' : undirected motifs up to 6 nodes, 'Dmotifs4' : directed motifs up to 4 nodes\n",
    "model='D'      # 'H'=homogeneous/non DC, T=total degree, O: orbit degree model, M:motif degree model, D: directed degree model\n",
    "n=8 #number of parallel threads"
   ]
  },
  {
   "cell_type": "code",
   "execution_count": null,
   "metadata": {},
   "outputs": [],
   "source": [
    "g=gtc.ns[net].copy()\n",
    "f=open(motifs,'rb')\n",
    "M=pk.load(f,encoding='bytes')\n",
    "f.close()\n",
    "print(len(M))\n",
    "C=InferC('T',g,M,n)"
   ]
  },
  {
   "cell_type": "code",
   "execution_count": null,
   "metadata": {},
   "outputs": [],
   "source": []
  }
 ],
 "metadata": {
  "kernelspec": {
   "display_name": "gt",
   "language": "python",
   "name": "python3"
  },
  "language_info": {
   "codemirror_mode": {
    "name": "ipython",
    "version": 3
   },
   "file_extension": ".py",
   "mimetype": "text/x-python",
   "name": "python",
   "nbconvert_exporter": "python",
   "pygments_lexer": "ipython3",
   "version": "3.10.9"
  }
 },
 "nbformat": 4,
 "nbformat_minor": 2
}
